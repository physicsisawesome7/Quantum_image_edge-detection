{
 "cells": [
  {
   "cell_type": "code",
   "execution_count": 3,
   "id": "6e91882a-158b-4354-b0d5-0cea25eeb9aa",
   "metadata": {},
   "outputs": [],
   "source": [
    "import numpy as np\n",
    "\n",
    "# Importing standard Qiskit libraries\n",
    "from qiskit import QuantumCircuit, transpile, Aer, IBMQ\n",
    "from qiskit.tools.jupyter import *\n",
    "from qiskit.visualization import *\n",
    "from ibm_quantum_widgets import *\n",
    "from qiskit.providers.aer import QasmSimulator\n",
    "\n",
    "# Loading your IBM Quantum account(s)\n",
    "provider = IBMQ.load_account()"
   ]
  },
  {
   "cell_type": "code",
   "execution_count": 14,
   "id": "93cb10a5-5ffa-454a-8a83-5d39bd6a9589",
   "metadata": {},
   "outputs": [
    {
     "data": {
      "image/png": "[encoded data removed]",
      "text/plain": [
       "<Figure size 432x288 with 1 Axes>"
      ]
     },
     "metadata": {
      "needs_background": "light"
     },
     "output_type": "display_data"
    }
   ],
   "source": [
    "# A 8x8 binary image represented as a numpy array\n",
    "image = np.array([[0, 0, 0, 0, 0, 0, 0, 0, 0, 0],\n",
    "                  [0, 0, 0, 0, 0, 0, 0, 0, 0, 0],\n",
    "                  [0, 0, 1, 1, 1, 1, 1, 1, 0, 0],\n",
    "                  [0, 0, 1, 1, 1, 1, 1, 1, 0, 0],\n",
    "                  [0, 0, 1, 1, 1, 1, 1, 1, 0, 0],\n",
    "                  [0, 0, 1, 1, 1, 1, 1, 1, 0, 0],\n",
    "                  [0, 0, 1, 1, 1, 1, 1, 1, 0, 0],\n",
    "                  [0, 0, 0, 0, 1, 1, 1, 1, 0, 0],\n",
    "                  [0, 0, 0, 0, 0, 0, 0, 1, 0, 0],\n",
    "                  [0, 0, 0, 0, 0, 0, 0, 0, 0, 0]])\n",
    "\n",
    "# Function for plotting the image using matplotlib\n",
    "import matplotlib.pyplot as plt\n",
    "def plot_image(img, title: str):\n",
    "    plt.title(title)\n",
    "    plt.xticks(range(img.shape[0]))\n",
    "    plt.yticks(range(img.shape[1]))\n",
    "    plt.imshow(img, extent=[0, img.shape[0], img.shape[1], 0], cmap='viridis')\n",
    "    plt.show()\n",
    "    \n",
    "plot_image(image, 'Original Image')"
   ]
  },
  {
   "cell_type": "code",
   "execution_count": 15,
   "id": "a53b818f-8e32-4ed7-b26e-50b272fa95ac",
   "metadata": {},
   "outputs": [
    {
     "name": "stdout",
     "output_type": "stream",
     "text": [
      "image norm h \n",
      " [0.         0.         0.         0.         0.         0.\n",
      " 0.         0.         0.         0.         0.         0.\n",
      " 0.         0.         0.         0.         0.         0.\n",
      " 0.         0.         0.         0.         0.16903085 0.16903085\n",
      " 0.16903085 0.16903085 0.16903085 0.16903085 0.         0.\n",
      " 0.         0.         0.16903085 0.16903085 0.16903085 0.16903085\n",
      " 0.16903085 0.16903085 0.         0.         0.         0.\n",
      " 0.16903085 0.16903085 0.16903085 0.16903085 0.16903085 0.16903085\n",
      " 0.         0.         0.         0.         0.16903085 0.16903085\n",
      " 0.16903085 0.16903085 0.16903085 0.16903085 0.         0.\n",
      " 0.         0.         0.16903085 0.16903085 0.16903085 0.16903085\n",
      " 0.16903085 0.16903085 0.         0.         0.         0.\n",
      " 0.         0.         0.16903085 0.16903085 0.16903085 0.16903085\n",
      " 0.         0.         0.         0.         0.         0.\n",
      " 0.         0.         0.         0.16903085 0.         0.\n",
      " 0.         0.         0.         0.         0.         0.\n",
      " 0.         0.         0.         0.        ]\n",
      "\n",
      " image norm v \n",
      " [0.         0.         0.         0.         0.         0.\n",
      " 0.         0.         0.         0.         0.         0.\n",
      " 0.         0.         0.         0.         0.         0.\n",
      " 0.         0.         0.         0.         0.16903085 0.16903085\n",
      " 0.16903085 0.16903085 0.16903085 0.         0.         0.\n",
      " 0.         0.         0.16903085 0.16903085 0.16903085 0.16903085\n",
      " 0.16903085 0.         0.         0.         0.         0.\n",
      " 0.16903085 0.16903085 0.16903085 0.16903085 0.16903085 0.16903085\n",
      " 0.         0.         0.         0.         0.16903085 0.16903085\n",
      " 0.16903085 0.16903085 0.16903085 0.16903085 0.         0.\n",
      " 0.         0.         0.16903085 0.16903085 0.16903085 0.16903085\n",
      " 0.16903085 0.16903085 0.         0.         0.         0.\n",
      " 0.16903085 0.16903085 0.16903085 0.16903085 0.16903085 0.16903085\n",
      " 0.16903085 0.         0.         0.         0.         0.\n",
      " 0.         0.         0.         0.         0.         0.\n",
      " 0.         0.         0.         0.         0.         0.\n",
      " 0.         0.         0.         0.        ]\n"
     ]
    }
   ],
   "source": [
    "# Convert the raw pixel values to probability amplitudes\n",
    "def amplitude_encode(img_data):\n",
    "   \n",
    "    \n",
    "    # Calculate the RMS value\n",
    "    rms = np.sqrt(np.sum(np.sum(img_data**2, axis=1)))\n",
    "    \n",
    "    \n",
    "    # Create normalized image\n",
    "    image_norm = []\n",
    "    for arr in img_data:\n",
    "        for ele in arr:\n",
    "            image_norm.append(ele / rms)\n",
    "        \n",
    "    # Return the normalized image as a numpy array\n",
    "    return np.array(image_norm)\n",
    "\n",
    "# Get the amplitude ancoded pixel values\n",
    "# Horizontal: Original image\n",
    "image_norm_h = amplitude_encode(image)\n",
    "\n",
    "# Vertical: Transpose of Original image\n",
    "image_norm_v = amplitude_encode(image.T)\n",
    "\n",
    "print(\"image norm h \\n\",image_norm_h)\n",
    "print(\"\\n image norm v \\n\",image_norm_v)"
   ]
  },
  {
   "cell_type": "code",
   "execution_count": 16,
   "id": "1284f688-d95b-4f9f-8781-9cac3f97850d",
   "metadata": {},
   "outputs": [
    {
     "name": "stdout",
     "output_type": "stream",
     "text": [
      " Total Qubit:  10\n",
      "\n",
      " Amplitude permutation unitary \n",
      " [[0. 1. 0. ... 0. 0. 0.]\n",
      " [0. 0. 1. ... 0. 0. 0.]\n",
      " [0. 0. 0. ... 0. 0. 0.]\n",
      " ...\n",
      " [0. 0. 0. ... 0. 1. 0.]\n",
      " [0. 0. 0. ... 0. 0. 1.]\n",
      " [1. 0. 0. ... 0. 0. 0.]]\n"
     ]
    }
   ],
   "source": [
    " #Initialize some global variable for number of qubits\n",
    "data_qb = 9\n",
    "anc_qb = 1\n",
    "total_qb = data_qb + anc_qb\n",
    "print(\" Total Qubit: \",total_qb)\n",
    "\n",
    "# Initialize the amplitude permutation unitary\n",
    "D2n_1 = np.roll(np.identity(2**total_qb), 1, axis=1)\n",
    "print(\"\\n Amplitude permutation unitary \\n\",D2n_1)"
   ]
  },
  {
   "cell_type": "code",
   "execution_count": 17,
   "id": "78e3b9b3-475e-4836-8aa2-9a47a3f4c71b",
   "metadata": {},
   "outputs": [
    {
     "name": "stdout",
     "output_type": "stream",
     "text": [
      "Traceback \u001b[1;36m(most recent call last)\u001b[0m:\n",
      "  File \u001b[0;32m\"/tmp/ipykernel_179/3242316287.py\"\u001b[0m, line \u001b[0;32m3\u001b[0m, in \u001b[0;35m<module>\u001b[0m\n",
      "    qc_h.initialize(image_norm_h, range(1, total_qb))\n",
      "  File \u001b[0;32m\"/opt/conda/lib/python3.8/site-packages/qiskit/extensions/quantum_initializer/initializer.py\"\u001b[0m, line \u001b[0;32m459\u001b[0m, in \u001b[0;35minitialize\u001b[0m\n",
      "    return self.append(Initialize(params, num_qubits), qubits)\n",
      "\u001b[1;36m  File \u001b[1;32m\"/opt/conda/lib/python3.8/site-packages/qiskit/extensions/quantum_initializer/initializer.py\"\u001b[1;36m, line \u001b[1;32m88\u001b[1;36m, in \u001b[1;35m__init__\u001b[1;36m\u001b[0m\n",
      "\u001b[1;33m    raise QiskitError(\"Desired statevector length not a positive power of 2.\")\u001b[0m\n",
      "\u001b[1;31mQiskitError\u001b[0m\u001b[1;31m:\u001b[0m 'Desired statevector length not a positive power of 2.'\n",
      "\n",
      "Use %tb to get the full traceback.\n"
     ]
    },
    {
     "data": {
      "text/html": [
       "\n",
       "<style>\n",
       ".button {\n",
       "  border: none;\n",
       "  color: white;\n",
       "  padding: 4px 8px;\n",
       "  text-align: center;\n",
       "  text-decoration: none;\n",
       "  display: inline-block;\n",
       "  font-size: 12px;\n",
       "  margin: 4px 2px;\n",
       "  transition-duration: 0.2s;\n",
       "  cursor: pointer;\n",
       "}\n",
       ".iqx-button {\n",
       "  background-color: #0f62fe; \n",
       "  color: white; \n",
       "}\n",
       ".iqx-button:hover {\n",
       "  background-color: #0043ce;\n",
       "  color: white;\n",
       "}\n",
       "</style>\n",
       "<a href=\"https://stackoverflow.com/search?q=QiskitError: Desired statevector length not a positive power of 2.\" target='_blank'><button class='button iqx-button'>Search for solution online</button></a>\n"
      ],
      "text/plain": [
       "<IPython.core.display.HTML object>"
      ]
     },
     "metadata": {},
     "output_type": "display_data"
    }
   ],
   "source": [
    "# Create the circuit for horizontal scan\n",
    "qc_h = QuantumCircuit(total_qb)\n",
    "qc_h.initialize(image_norm_h, range(1, total_qb))\n",
    "qc_h.h(0)\n",
    "qc_h.unitary(D2n_1, range(total_qb))\n",
    "qc_h.h(0)\n",
    "display(qc_h.draw('mpl', fold=-1))\n",
    "\n",
    "# Create the circuit for vertical scan\n",
    "qc_v = QuantumCircuit(total_qb)\n",
    "qc_v.initialize(image_norm_v, range(1, total_qb))\n",
    "qc_v.h(0)\n",
    "qc_v.unitary(D2n_1, range(total_qb))\n",
    "qc_v.h(0)\n",
    "display(qc_v.draw('mpl', fold=-1))\n",
    "\n",
    "# Combine both circuits into a single list\n",
    "circ_list = [qc_h, qc_v]"
   ]
  },
  {
   "cell_type": "code",
   "execution_count": 14,
   "id": "da9cdd92-b521-4e4d-a340-abc3c7403402",
   "metadata": {},
   "outputs": [
    {
     "name": "stdout",
     "output_type": "stream",
     "text": [
      "Horizontal scan statevector:\n"
     ]
    },
    {
     "data": {
      "text/latex": [
       "$$\n",
       "\n",
       "\\begin{bmatrix}\n",
       "0 & 0 & 0 & 0 & 0 & 0 & 0 & 0 & 0 & 0 & 0 & 0 & 0 & 0 & 0 & 0 & 0 & 0 & 0.09449 & -0.09449 & 0.09449 & 0.09449 & 0 & 0 & 0.09449 & -0.09449 & 0.09449 & 0.09449 & 0 & 0  \\\\\n",
       " \\end{bmatrix}\n",
       "$$"
      ],
      "text/plain": [
       "<IPython.core.display.Latex object>"
      ]
     },
     "metadata": {},
     "output_type": "display_data"
    },
    {
     "name": "stdout",
     "output_type": "stream",
     "text": [
      "\n",
      "Vertical scan statevector:\n"
     ]
    },
    {
     "data": {
      "text/latex": [
       "$$\n",
       "\n",
       "\\begin{bmatrix}\n",
       "0 & 0 & 0 & 0 & 0 & 0 & 0 & 0 & 0 & 0 & 0 & 0 & 0 & 0 & 0 & 0 & 0 & 0 & 0.09449 & -0.09449 & 0.18898 & 0 & 0.18898 & 0 & 0.18898 & 0 & 0.09449 & 0.09449 & 0 & 0  \\\\\n",
       " \\end{bmatrix}\n",
       "$$"
      ],
      "text/plain": [
       "<IPython.core.display.Latex object>"
      ]
     },
     "metadata": {},
     "output_type": "display_data"
    }
   ],
   "source": [
    "# Simulating the cirucits\n",
    "from qiskit import Aer, QuantumCircuit, execute\n",
    "back = Aer.get_backend('statevector_simulator')\n",
    "results = execute(circ_list, backend=back).result()\n",
    "sv_h = results.get_statevector(qc_h)\n",
    "sv_v = results.get_statevector(qc_v)\n",
    " \n",
    "from qiskit.visualization import array_to_latex\n",
    "print('Horizontal scan statevector:')\n",
    "display(array_to_latex(sv_h[:30], max_size=30))\n",
    "print()\n",
    "print('Vertical scan statevector:')\n",
    "display(array_to_latex(sv_v[:30], max_size=30))"
   ]
  },
  {
   "cell_type": "code",
   "execution_count": 15,
   "id": "64f0b638-c125-4d7c-95c5-b9729b31522d",
   "metadata": {},
   "outputs": [
    {
     "data": {
      "image/png": "[encoded data removed]",
      "text/plain": [
       "<Figure size 432x288 with 1 Axes>"
      ]
     },
     "metadata": {
      "needs_background": "light"
     },
     "output_type": "display_data"
    },
    {
     "data": {
      "image/png": "[encoded data removed]",
      "text/plain": [
       "<Figure size 432x288 with 1 Axes>"
      ]
     },
     "metadata": {
      "needs_background": "light"
     },
     "output_type": "display_data"
    }
   ],
   "source": [
    "# Classical postprocessing for plotting the output\n",
    "\n",
    "# Defining a lambda function for\n",
    "# thresholding to binary values\n",
    "threshold = lambda amp: (amp > 1e-15 or amp < -1e-15)\n",
    "\n",
    "# Selecting odd states from the raw statevector and\n",
    "# reshaping column vector of size 64 to an 8x8 matrix\n",
    "edge_scan_h = np.abs(np.array([1 if threshold(sv_h[2*i+1].real) else 0 for i in range(2**data_qb)])).reshape(8, 8)\n",
    "edge_scan_v = np.abs(np.array([1 if threshold(sv_v[2*i+1].real) else 0 for i in range(2**data_qb)])).reshape(8, 8).T\n",
    "\n",
    "# Plotting the Horizontal and vertical scans\n",
    "plot_image(edge_scan_h, 'Horizontal scan output')\n",
    "plot_image(edge_scan_v, 'Vertical scan output')"
   ]
  },
  {
   "cell_type": "code",
   "execution_count": 17,
   "id": "233e066c-9d0a-4659-aff2-01cb63b367b2",
   "metadata": {},
   "outputs": [
    {
     "data": {
      "image/png": "[encoded data removed]",
      "text/plain": [
       "<Figure size 432x288 with 1 Axes>"
      ]
     },
     "metadata": {
      "needs_background": "light"
     },
     "output_type": "display_data"
    },
    {
     "data": {
      "image/png": "[encoded data removed]",
      "text/plain": [
       "<Figure size 432x288 with 1 Axes>"
      ]
     },
     "metadata": {
      "needs_background": "light"
     },
     "output_type": "display_data"
    }
   ],
   "source": [
    "# Combining the horizontal and vertical component of the result\n",
    "edge_scan_sim = edge_scan_h | edge_scan_v\n",
    "\n",
    "# Plotting the original and edge-detected images\n",
    "plot_image(image, 'Original image')\n",
    "plot_image(edge_scan_sim, 'Edge Detected image')"
   ]
  },
  {
   "cell_type": "code",
   "execution_count": null,
   "id": "1c0cd180-3a91-45b6-a4b6-582185829d9c",
   "metadata": {},
   "outputs": [],
   "source": []
  }
 ],
 "metadata": {
  "kernelspec": {
   "display_name": "Qiskit v0.30.1 (ipykernel)",
   "language": "python",
   "name": "python3"
  },
  "language_info": {
   "codemirror_mode": {
    "name": "ipython",
    "version": 3
   },
   "file_extension": ".py",
   "mimetype": "text/x-python",
   "name": "python",
   "nbconvert_exporter": "python",
   "pygments_lexer": "ipython3",
   "version": "3.8.10"
  },
  "widgets": {
   "application/vnd.jupyter.widget-state+json": {
    "state": {},
    "version_major": 2,
    "version_minor": 0
   }
  }
 },
 "nbformat": 4,
 "nbformat_minor": 5
}
